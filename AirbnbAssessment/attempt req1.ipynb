{
 "cells": [
  {
   "cell_type": "code",
   "execution_count": 7,
   "id": "753cff55",
   "metadata": {},
   "outputs": [
    {
     "ename": "AttributeError",
     "evalue": "partially initialized module 'pandas' has no attribute 'core' (most likely due to a circular import)",
     "output_type": "error",
     "traceback": [
      "\u001b[1;31m---------------------------------------------------------------------------\u001b[0m",
      "\u001b[1;31mAttributeError\u001b[0m                            Traceback (most recent call last)",
      "\u001b[1;32m~\\AppData\\Local\\Temp\\ipykernel_2264\\2575315641.py\u001b[0m in \u001b[0;36m<module>\u001b[1;34m\u001b[0m\n\u001b[0;32m      1\u001b[0m \u001b[1;32mimport\u001b[0m \u001b[0mcsv\u001b[0m\u001b[1;33m\u001b[0m\u001b[1;33m\u001b[0m\u001b[0m\n\u001b[1;32m----> 2\u001b[1;33m \u001b[1;32mimport\u001b[0m \u001b[0mpandas\u001b[0m \u001b[1;32mas\u001b[0m \u001b[0mpd\u001b[0m\u001b[1;33m\u001b[0m\u001b[1;33m\u001b[0m\u001b[0m\n\u001b[0m\u001b[0;32m      3\u001b[0m \u001b[1;32mimport\u001b[0m \u001b[0mpandas\u001b[0m \u001b[1;32mas\u001b[0m \u001b[0mpd\u001b[0m\u001b[1;33m\u001b[0m\u001b[1;33m\u001b[0m\u001b[0m\n\u001b[0;32m      4\u001b[0m \u001b[1;33m\u001b[0m\u001b[0m\n\u001b[0;32m      5\u001b[0m \u001b[1;31m#The header=0 means column names are in the first row and set the Name column to be row index\u001b[0m\u001b[1;33m\u001b[0m\u001b[1;33m\u001b[0m\u001b[0m\n",
      "\u001b[1;32m~\\anaconda3\\lib\\site-packages\\pandas\\__init__.py\u001b[0m in \u001b[0;36m<module>\u001b[1;34m\u001b[0m\n\u001b[0;32m    133\u001b[0m )\n\u001b[0;32m    134\u001b[0m \u001b[1;33m\u001b[0m\u001b[0m\n\u001b[1;32m--> 135\u001b[1;33m \u001b[1;32mfrom\u001b[0m \u001b[0mpandas\u001b[0m \u001b[1;32mimport\u001b[0m \u001b[0mapi\u001b[0m\u001b[1;33m,\u001b[0m \u001b[0marrays\u001b[0m\u001b[1;33m,\u001b[0m \u001b[0merrors\u001b[0m\u001b[1;33m,\u001b[0m \u001b[0mio\u001b[0m\u001b[1;33m,\u001b[0m \u001b[0mplotting\u001b[0m\u001b[1;33m,\u001b[0m \u001b[0mtesting\u001b[0m\u001b[1;33m,\u001b[0m \u001b[0mtseries\u001b[0m\u001b[1;33m\u001b[0m\u001b[1;33m\u001b[0m\u001b[0m\n\u001b[0m\u001b[0;32m    136\u001b[0m \u001b[1;32mfrom\u001b[0m \u001b[0mpandas\u001b[0m\u001b[1;33m.\u001b[0m\u001b[0mutil\u001b[0m\u001b[1;33m.\u001b[0m\u001b[0m_print_versions\u001b[0m \u001b[1;32mimport\u001b[0m \u001b[0mshow_versions\u001b[0m\u001b[1;33m\u001b[0m\u001b[1;33m\u001b[0m\u001b[0m\n\u001b[0;32m    137\u001b[0m \u001b[1;33m\u001b[0m\u001b[0m\n",
      "\u001b[1;32m~\\anaconda3\\lib\\site-packages\\pandas\\testing.py\u001b[0m in \u001b[0;36m<module>\u001b[1;34m\u001b[0m\n\u001b[0;32m      4\u001b[0m \u001b[1;33m\u001b[0m\u001b[0m\n\u001b[0;32m      5\u001b[0m \u001b[1;33m\u001b[0m\u001b[0m\n\u001b[1;32m----> 6\u001b[1;33m from pandas._testing import (\n\u001b[0m\u001b[0;32m      7\u001b[0m     \u001b[0massert_extension_array_equal\u001b[0m\u001b[1;33m,\u001b[0m\u001b[1;33m\u001b[0m\u001b[1;33m\u001b[0m\u001b[0m\n\u001b[0;32m      8\u001b[0m     \u001b[0massert_frame_equal\u001b[0m\u001b[1;33m,\u001b[0m\u001b[1;33m\u001b[0m\u001b[1;33m\u001b[0m\u001b[0m\n",
      "\u001b[1;32m~\\anaconda3\\lib\\site-packages\\pandas\\_testing\\__init__.py\u001b[0m in \u001b[0;36m<module>\u001b[1;34m\u001b[0m\n\u001b[0;32m    977\u001b[0m \u001b[1;33m\u001b[0m\u001b[0m\n\u001b[0;32m    978\u001b[0m \u001b[1;33m\u001b[0m\u001b[0m\n\u001b[1;32m--> 979\u001b[1;33m \u001b[0mcython_table\u001b[0m \u001b[1;33m=\u001b[0m \u001b[0mpd\u001b[0m\u001b[1;33m.\u001b[0m\u001b[0mcore\u001b[0m\u001b[1;33m.\u001b[0m\u001b[0mcommon\u001b[0m\u001b[1;33m.\u001b[0m\u001b[0m_cython_table\u001b[0m\u001b[1;33m.\u001b[0m\u001b[0mitems\u001b[0m\u001b[1;33m(\u001b[0m\u001b[1;33m)\u001b[0m\u001b[1;33m\u001b[0m\u001b[1;33m\u001b[0m\u001b[0m\n\u001b[0m\u001b[0;32m    980\u001b[0m \u001b[1;33m\u001b[0m\u001b[0m\n\u001b[0;32m    981\u001b[0m \u001b[1;33m\u001b[0m\u001b[0m\n",
      "\u001b[1;31mAttributeError\u001b[0m: partially initialized module 'pandas' has no attribute 'core' (most likely due to a circular import)"
     ]
    }
   ],
   "source": [
    "import csv\n",
    "\n",
    "file_name = \"Airbnbuk.csv\"\n",
    "\n",
    "try:\n",
    "    # Open csv file and read data from a file\n",
    "    with open(file_name) as csv_file:\n",
    "        # Read a csv file\n",
    "        csv_reader = csv.reader(csv_file)\n",
    "        \n",
    "        # read in and store the headings separately\n",
    "        headings = next(csv_file)\n",
    "        \n",
    "        # Display heading in csv file\n",
    "        print(headings)\n",
    "        \n",
    "        # Display a list of values for each line in the file\n",
    "        for row in csv_reader:\n",
    "            print(row)\n",
    "except IOError:\n",
    "    print(f\"Cannot read file {file_name}.\")\n"
   ]
  },
  {
   "cell_type": "code",
   "execution_count": null,
   "id": "f09b3094",
   "metadata": {},
   "outputs": [],
   "source": [
    "import csv\n",
    " \n",
    "def get_host_data(host_id):\n",
    "    with open('AirbnbUK.csv') as csvdatafile:\n",
    "        reader = csv.DictReader(csvdatafile)\n",
    "        for row in reader:\n",
    "            if int(row['host_id']) == host_id:\n",
    "                return row['name'], row['host_name'], row['description'], row['host_location'], row['host_since']\n",
    "    return None\n",
    "host_id = int(input(\"Please, Enter host id: \\n \"))\n",
    "host_info = get_host_data(host_id)\n",
    "if host_info:\n",
    "    name, host_name, description, host_location, host_since = host_info\n",
    "    print(f\"Name: \\n {name}\")\n",
    "    print(f\"Host name: \\n {host_name}\")\n",
    "    print(f\"Description: \\n {description}\")\n",
    "    print(f\"Host location: \\n {host_location}\")\n",
    "    print(f\"Host start date: \\n {host_since}\")\n",
    "else:\n",
    "    print(f\"Incorrect host id {host_id} found.\")\n",
    "    \n",
    "def get_host_data(host_location):\n",
    "    host_location = \"London\"\n",
    "    with open('AirbnbUK.csv') as csvdatafile:\n",
    "        reader = csv.DictReader(csvdatafile)\n",
    "        for row in reader:\n",
    "            if str(row['host_location']) == \"London\":\n",
    "                return row['host_name'], row['property_type'], row['price'], row['maximum_nights'], row['minimum_nights']\n",
    "    return None\n",
    "host_info = get_host_data(host_location)\n",
    "if host_info:\n",
    "    host_name, property_type, price, minimum_nights, maximum_nights = host_info\n",
    "    print(f\"Host name: \\n {host_name}\")\n",
    "    print(f\"Property type: \\n {property_type}\")\n",
    "    print(f\"Price of listing: \\n {price}\")\n",
    "    print(f\"Total Maximum night: \\n {maximum_nights}\")\n",
    "    print(f\"Total Minimum night: \\n {minimum_nights}\")\n",
    "else:\n",
    "    print(f\"{host_location} not found.\")   \n",
    "    \n",
    "def get_host_data(property_type):\n",
    "    with open('AirbnbUK.csv') as csvdatafile:\n",
    "        reader = csv.DictReader(csvdatafile)\n",
    "        for row in reader:\n",
    "            if str(row['property_type']) == property_type:\n",
    "                return row['room_type'], row['accommodates'], row['bathrooms_text'], row['bedrooms'], row['beds']\n",
    "    return None\n",
    "\n",
    "property_type = str(input(\"Please, Enter specific property type: \"))\n",
    "host_info = get_host_data(property_type)\n",
    "if host_info:\n",
    "    room_type, accommodates, bathrooms_text, bedrooms, beds = host_info\n",
    "    print(f\"Room type: \\n {room_type}\")\n",
    "    print(f\"Number of accomodates: \\n {accommodates}\")\n",
    "    print(f\"Number of bathrooms: \\n {bathrooms_text}\")\n",
    "    print(f\"Number of bedrooms: \\n {bedrooms}\")\n",
    "    print(f\"Number of bed: \\n {beds}\")\n",
    "else:\n",
    "    print(f\"This {property_type} not found.\")\n",
    "    \n",
    "def get_host_data(host_location):\n",
    "    host_location = input(\"Enter your location: \")\n",
    "    with open('AirbnbUK.csv') as csvdatafile:\n",
    "        reader = csv.DictReader(csvdatafile)\n",
    "        for row in reader:\n",
    "            if str(row['host_location']) == host_location:\n",
    "                return row['number_of_reviews'], row['review_scores_rating'], row['review_scores_value'], row['price']\n",
    "    return None\n",
    "host_info = get_host_data(host_location)\n",
    "if host_info:\n",
    "    number_of_reviews, review_scores_rating, review_scores_value, price = host_info\n",
    "    print(f\"Total number of listing: \\n {number_of_reviews}\")\n",
    "    print(f\"Listing review rating: \\n {review_scores_rating}\")\n",
    "    print(f\"Value of review scores: \\n {review_scores_value}\")\n",
    "    print(f\"Price of listing: \\n {price}\")\n",
    "else:\n",
    "    print(f\"{host_location} not found.\")  "
   ]
  },
  {
   "cell_type": "code",
   "execution_count": 18,
   "id": "51358bec",
   "metadata": {},
   "outputs": [
    {
     "ename": "AttributeError",
     "evalue": "partially initialized module 'pandas' has no attribute 'core' (most likely due to a circular import)",
     "output_type": "error",
     "traceback": [
      "\u001b[1;31m---------------------------------------------------------------------------\u001b[0m",
      "\u001b[1;31mAttributeError\u001b[0m                            Traceback (most recent call last)",
      "\u001b[1;32m~\\AppData\\Local\\Temp\\ipykernel_2264\\519514151.py\u001b[0m in \u001b[0;36m<module>\u001b[1;34m\u001b[0m\n\u001b[1;32m----> 1\u001b[1;33m \u001b[1;32mimport\u001b[0m \u001b[0mpandas\u001b[0m \u001b[1;32mas\u001b[0m \u001b[0mpd\u001b[0m\u001b[1;33m\u001b[0m\u001b[1;33m\u001b[0m\u001b[0m\n\u001b[0m\u001b[0;32m      2\u001b[0m \u001b[1;33m\u001b[0m\u001b[0m\n\u001b[0;32m      3\u001b[0m \u001b[0mcsv_path\u001b[0m \u001b[1;33m=\u001b[0m \u001b[1;34m\"AirbnbUK.csv\"\u001b[0m\u001b[1;33m\u001b[0m\u001b[1;33m\u001b[0m\u001b[0m\n\u001b[0;32m      4\u001b[0m \u001b[1;33m\u001b[0m\u001b[0m\n\u001b[0;32m      5\u001b[0m \u001b[1;31m#The header=0 means column names are in the first row and set the Name column to be row index\u001b[0m\u001b[1;33m\u001b[0m\u001b[1;33m\u001b[0m\u001b[0m\n",
      "\u001b[1;32m~\\anaconda3\\lib\\site-packages\\pandas\\__init__.py\u001b[0m in \u001b[0;36m<module>\u001b[1;34m\u001b[0m\n\u001b[0;32m    133\u001b[0m )\n\u001b[0;32m    134\u001b[0m \u001b[1;33m\u001b[0m\u001b[0m\n\u001b[1;32m--> 135\u001b[1;33m \u001b[1;32mfrom\u001b[0m \u001b[0mpandas\u001b[0m \u001b[1;32mimport\u001b[0m \u001b[0mapi\u001b[0m\u001b[1;33m,\u001b[0m \u001b[0marrays\u001b[0m\u001b[1;33m,\u001b[0m \u001b[0merrors\u001b[0m\u001b[1;33m,\u001b[0m \u001b[0mio\u001b[0m\u001b[1;33m,\u001b[0m \u001b[0mplotting\u001b[0m\u001b[1;33m,\u001b[0m \u001b[0mtesting\u001b[0m\u001b[1;33m,\u001b[0m \u001b[0mtseries\u001b[0m\u001b[1;33m\u001b[0m\u001b[1;33m\u001b[0m\u001b[0m\n\u001b[0m\u001b[0;32m    136\u001b[0m \u001b[1;32mfrom\u001b[0m \u001b[0mpandas\u001b[0m\u001b[1;33m.\u001b[0m\u001b[0mutil\u001b[0m\u001b[1;33m.\u001b[0m\u001b[0m_print_versions\u001b[0m \u001b[1;32mimport\u001b[0m \u001b[0mshow_versions\u001b[0m\u001b[1;33m\u001b[0m\u001b[1;33m\u001b[0m\u001b[0m\n\u001b[0;32m    137\u001b[0m \u001b[1;33m\u001b[0m\u001b[0m\n",
      "\u001b[1;32m~\\anaconda3\\lib\\site-packages\\pandas\\testing.py\u001b[0m in \u001b[0;36m<module>\u001b[1;34m\u001b[0m\n\u001b[0;32m      4\u001b[0m \u001b[1;33m\u001b[0m\u001b[0m\n\u001b[0;32m      5\u001b[0m \u001b[1;33m\u001b[0m\u001b[0m\n\u001b[1;32m----> 6\u001b[1;33m from pandas._testing import (\n\u001b[0m\u001b[0;32m      7\u001b[0m     \u001b[0massert_extension_array_equal\u001b[0m\u001b[1;33m,\u001b[0m\u001b[1;33m\u001b[0m\u001b[1;33m\u001b[0m\u001b[0m\n\u001b[0;32m      8\u001b[0m     \u001b[0massert_frame_equal\u001b[0m\u001b[1;33m,\u001b[0m\u001b[1;33m\u001b[0m\u001b[1;33m\u001b[0m\u001b[0m\n",
      "\u001b[1;32m~\\anaconda3\\lib\\site-packages\\pandas\\_testing\\__init__.py\u001b[0m in \u001b[0;36m<module>\u001b[1;34m\u001b[0m\n\u001b[0;32m    977\u001b[0m \u001b[1;33m\u001b[0m\u001b[0m\n\u001b[0;32m    978\u001b[0m \u001b[1;33m\u001b[0m\u001b[0m\n\u001b[1;32m--> 979\u001b[1;33m \u001b[0mcython_table\u001b[0m \u001b[1;33m=\u001b[0m \u001b[0mpd\u001b[0m\u001b[1;33m.\u001b[0m\u001b[0mcore\u001b[0m\u001b[1;33m.\u001b[0m\u001b[0mcommon\u001b[0m\u001b[1;33m.\u001b[0m\u001b[0m_cython_table\u001b[0m\u001b[1;33m.\u001b[0m\u001b[0mitems\u001b[0m\u001b[1;33m(\u001b[0m\u001b[1;33m)\u001b[0m\u001b[1;33m\u001b[0m\u001b[1;33m\u001b[0m\u001b[0m\n\u001b[0m\u001b[0;32m    980\u001b[0m \u001b[1;33m\u001b[0m\u001b[0m\n\u001b[0;32m    981\u001b[0m \u001b[1;33m\u001b[0m\u001b[0m\n",
      "\u001b[1;31mAttributeError\u001b[0m: partially initialized module 'pandas' has no attribute 'core' (most likely due to a circular import)"
     ]
    }
   ],
   "source": [
    "import pandas as pd\n",
    "\n",
    "csv_path = \"AirbnbUK.csv\"\n",
    "\n",
    "#The header=0 means column names are in the first row and set the Name column to be row index\n",
    "df = pd.read_csv(csv_path)\n",
    "\n",
    "#The head() method returns the first five rows\n",
    "print (df.head())"
   ]
  },
  {
   "cell_type": "code",
   "execution_count": null,
   "id": "97bc3ec0",
   "metadata": {},
   "outputs": [],
   "source": []
  },
  {
   "cell_type": "code",
   "execution_count": null,
   "id": "fd572da6",
   "metadata": {},
   "outputs": [],
   "source": []
  },
  {
   "cell_type": "code",
   "execution_count": null,
   "id": "61ef3bc1",
   "metadata": {},
   "outputs": [],
   "source": []
  },
  {
   "cell_type": "code",
   "execution_count": null,
   "id": "b70e3236",
   "metadata": {},
   "outputs": [],
   "source": []
  },
  {
   "cell_type": "code",
   "execution_count": null,
   "id": "c70d0b22",
   "metadata": {},
   "outputs": [],
   "source": []
  }
 ],
 "metadata": {
  "kernelspec": {
   "display_name": "Python 3 (ipykernel)",
   "language": "python",
   "name": "python3"
  },
  "language_info": {
   "codemirror_mode": {
    "name": "ipython",
    "version": 3
   },
   "file_extension": ".py",
   "mimetype": "text/x-python",
   "name": "python",
   "nbconvert_exporter": "python",
   "pygments_lexer": "ipython3",
   "version": "3.9.13"
  }
 },
 "nbformat": 4,
 "nbformat_minor": 5
}
